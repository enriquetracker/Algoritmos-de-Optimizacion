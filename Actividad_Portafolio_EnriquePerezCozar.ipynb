{
 "cells": [
  {
   "cell_type": "markdown",
   "metadata": {
    "id": "hVbXYX-RfPWh"
   },
   "source": [
    "# Algoritmos de optimización - Seminario<br>\n",
    "Nombre y Apellidos: Enrique Perez Cozar <br>\n",
    "Url: https://github.com/enriquetracker/03MIAR---Algoritmos-de-Optimizacion-2022<br>\n",
    "Problema:\n",
    "> 1. Sesiones de doblaje <br>\n",
    "\n",
    "\n",
    "Descripción del problema:(copiar enunciado)\n",
    "\n",
    "Se precisa coordinar el doblaje de una película. Los actores del doblaje deben coincidir en las tomas en las que sus personajes aparecen juntos en las diferentes tomas. Los actores de doblaje cobran todos la misma cantidad por cada día que deben desplazarse hasta el estudio de grabación independientemente del número de tomas que se graben. No es posible grabar más de 6 tomas por día. El objetivo es planificar las sesiones por día de manera que el gasto por los servicios de los actores de doblaje sea el menor posible. Los datos son:\n",
    "\n",
    "Número de actores: 10\n",
    "\n",
    "Número de tomas : 30\n",
    "\n",
    "Actores/Tomas : https://bit.ly/36D8IuK\n",
    "\n",
    "- 1 indica que el actor participa en la toma\n",
    "- 0 en caso contrario\n",
    "\n",
    "---\n",
    "\n",
    "\n",
    "                               "
   ]
  },
  {
   "cell_type": "markdown",
   "metadata": {
    "id": "3_-exlrTgLd-"
   },
   "source": [
    "### (*)¿Cuantas posibilidades hay sin tener en cuenta las restricciones?\n",
    "\n",
    "---\n",
    "\n",
    "Si no tenemos encuenta ninguna restricción, para el conjunto de datos de entrada con 30 tomas y 10 actores, el numero de soluciones posibles es el factorial de 30 (30!).\n",
    "\n",
    "Aunque habría 30! soluciones posibles, el gasto de los servicios seria el mismo para todas las soluciones, ya que todas las tomas se rodarían en el mismo dia y habría que pagar por cada actor que asistiera al rodaje una única vez, teniendo en cuenta que las tomas se rodarían de una en una.\n",
    "\n",
    "\n",
    "### ¿Cuantas posibilidades hay teniendo en cuenta todas las restricciones.\n",
    "\n",
    "---\n",
    "\n",
    "Si tenemos en cuenta la restricciones, este numero se reduce ligeramente, ya que cada dia se graban máximo seis tomas. Este calculo es el siguiente:\n",
    "\n",
    "\n",
    "$$SolucionesPosibles = \\frac{30!}{6!24!} * \\frac{24!}{6!19!} *\\frac{18!}{6!12!} *\\frac{12!}{6!6!} = \\frac{30!}{6!*6!*6!*6!*6!}\n",
    "\n",
    "\n",
    "\n",
    "\n",
    "\n",
    "\n"
   ]
  },
  {
   "cell_type": "markdown",
   "metadata": {
    "id": "dzynfVJahHoY"
   },
   "source": [
    "### Modelo para el espacio de soluciones<br>\n",
    "### (*) ¿Cual es la estructura de datos que mejor se adapta al problema? Argumentalo.(Es posible que hayas elegido una al principio y veas la necesidad de cambiar, arguentalo)\n"
   ]
  },
  {
   "cell_type": "markdown",
   "metadata": {
    "id": "xFIJrOwKi2Ti"
   },
   "source": [
    "Respuesta\n",
    "\n",
    "---\n",
    "\n",
    "En un primer momento, para el algoritmo de fuerza bruta, se ha utilizado un array de numpy para almacenar los datos de las 30 tomas y todas las posibles combinaciones en paquetes de 6.\n",
    "\n",
    "La solución se da en una lista que contiene los datos de las tomas en grupos de 6 y el coste asociado a esa agrupación.\n",
    "\n",
    "En el algoritmo de recocido simulado, se ha aligerado la solución, almacenando en una lista unicamente el orden en el que se rodará cada toma para luego evaluarla en la función de coste.\n",
    "\n",
    "En cuanto a estas estructuras son simples y debido a la naturaleza del problema, unicamente conviene utilizar la mas eficiente para reducir el tiempo de procesado.\n"
   ]
  },
  {
   "cell_type": "markdown",
   "metadata": {
    "id": "7Z9U2W7bi-XS"
   },
   "source": [
    "### Según el modelo para el espacio de soluciones<br>\n",
    "### (*)¿Cual es la función objetivo?\n",
    "\n",
    "### (*)¿Es un problema de maximización o minimización?"
   ]
  },
  {
   "cell_type": "markdown",
   "metadata": {
    "id": "hBalWLM7j1_d"
   },
   "source": [
    "Respuesta\n",
    "\n",
    "---\n",
    "\n",
    "La función objetivo en este problema determina el costo total de los actores para grabar todas las tomas. Así, teniendo en cuenta, que el actor cobra por sesión de grabación y que cada dia se pueden grabar un máximo de 6 sesiones, la función objetivo queda de la siguiente forma:\n",
    "\n",
    "\\begin{equation}\n",
    "\\displaystyle Y = C\\cdot  \\sum_{i=0}^{n=\\frac{N}{6}} x_i\n",
    "\\end{equation}\n",
    "\n",
    "Donde **Y** es el coste total, **N** el número de tomas , **<b>x<sub>i</sub></b>** el número de actores que participa en la sesión y **C** el coste diario por actor.\n",
    "\n",
    "Es un problema de **minimización** ya que hay que buscar que el coste sea mínimo y por tanto que los actores que participan en cada sesión sean los menos posibles.\n",
    "\n"
   ]
  },
  {
   "cell_type": "markdown",
   "metadata": {
    "id": "rlnTYgY1j6I2"
   },
   "source": [
    "### Diseña un algoritmo para resolver el problema por fuerza bruta"
   ]
  },
  {
   "cell_type": "markdown",
   "metadata": {
    "id": "70rDgxYXkC8r"
   },
   "source": [
    "Respuesta\n",
    "\n",
    "---\n",
    "\n",
    "Un algoritmo de fuerza bruta se caracteriza por buscar la solución optima a través de recorrer todo el espacio de soluciones, debido a las cantidad de posibles soluciones descritas anteriormente, la ejecución de este algoritmo requerirá de un tiempo desorbitado, por lo tanto, se planteará pero no se ejecutará.\n",
    "\n",
    "Adicionalmente, para hacerlo algo mas libiano, se ha introducido una condición para descartar las soluciones en el momento en el que se haya superado la solución óptima previa, esto hará que el algoritmo no termine de recorrer alguno de los caminos del espacio de soluciones.\n",
    "\n",
    "En el siguiente diagrama de proceso se detalla como funciona el algoritmo desarrollado en las siguientes celdas.\n",
    "\n",
    "<div style=\"display: flex; justify-content: center;\">\n",
    "<img src=\"esquema.png\" alt=\"Texto alternativo\">\n",
    "</div>\n",
    "\n",
    "Para el desarrollo del algoritmo de ha hecho uso de la recursividad para ir recorriendo el espacio de soluciones.\n"
   ]
  },
  {
   "cell_type": "code",
   "execution_count": 6,
   "metadata": {
    "id": "CJb5sQ0qkENy"
   },
   "outputs": [],
   "source": [
    "import numpy as np\n",
    "import itertools\n",
    "\n",
    "#Carga de datos\n",
    "CSVData = open(\"data.csv\")\n",
    "datos = np.loadtxt(CSVData, delimiter=\",\", dtype=np.int8)"
   ]
  },
  {
   "cell_type": "code",
   "execution_count": 7,
   "metadata": {},
   "outputs": [],
   "source": [
    "#Funcion para obtener las combinaciones de un conjunto de entrada en k grupos\n",
    "def list_combs(iterable, k): \n",
    "    return np.array(list(itertools.combinations(iterable, k)))"
   ]
  },
  {
   "cell_type": "code",
   "execution_count": 8,
   "metadata": {},
   "outputs": [],
   "source": [
    "#Funcion para eliminar datos de un conjunto \n",
    "def eliminar_filas(datos,pack):\n",
    "    filas_eliminar = []\n",
    "    for i in range(len(datos)):\n",
    "        for j in range(len(pack)):\n",
    "            if np.array_equal(datos[i], pack[j]):\n",
    "                filas_eliminar.append(i)\n",
    "                pack = np.delete(pack, j, axis=0)\n",
    "                break\n",
    "\n",
    "    return np.delete(datos, filas_eliminar, axis=0)"
   ]
  },
  {
   "cell_type": "code",
   "execution_count": 9,
   "metadata": {},
   "outputs": [],
   "source": [
    "#Funcion recursiva para recorrer el espacio de soluciones y obtener la solución optima.\n",
    "def agrupar_en_packs_6(data,lstSol,coste):\n",
    "    \n",
    "    global minimoactual\n",
    "    global listaPack\n",
    "    \n",
    "    packages = list_combs(data, 6)\n",
    "\n",
    "    for pack in packages:\n",
    "        lstSolAux = lstSol.copy()\n",
    "        if len(data)==30:\n",
    "            coste=0\n",
    "\n",
    "        data2 = eliminar_filas(data,pack)\n",
    "        \n",
    "        if len(data2) == 0:\n",
    "            coste = coste + np.count_nonzero(sum(pack))\n",
    "            print(coste)\n",
    "            lstSol.append(pack)\n",
    "            if coste<minimoactual:\n",
    "                \n",
    "                minimoactual = coste\n",
    "                listaPack = lstSol\n",
    "            continue\n",
    "            \n",
    "\n",
    "        coste = coste + np.count_nonzero(sum(pack))\n",
    "        lstSolAux.append(pack)\n",
    "        if(coste>minimoactual):\n",
    "            continue\n",
    "        agrupar_en_packs_6(data2,lstSolAux,coste)"
   ]
  },
  {
   "cell_type": "code",
   "execution_count": 10,
   "metadata": {},
   "outputs": [
    {
     "ename": "KeyboardInterrupt",
     "evalue": "",
     "output_type": "error",
     "traceback": [
      "\u001b[1;31m---------------------------------------------------------------------------\u001b[0m",
      "\u001b[1;31mKeyboardInterrupt\u001b[0m                         Traceback (most recent call last)",
      "Cell \u001b[1;32mIn[10], line 5\u001b[0m\n\u001b[0;32m      2\u001b[0m minimoactual \u001b[39m=\u001b[39m \u001b[39m10000\u001b[39m\n\u001b[0;32m      3\u001b[0m listaPack \u001b[39m=\u001b[39m []\n\u001b[1;32m----> 5\u001b[0m agrupar_en_packs_6(datos,lstSol\u001b[39m=\u001b[39;49m[],coste\u001b[39m=\u001b[39;49m\u001b[39m0\u001b[39;49m)\n\u001b[0;32m      7\u001b[0m \u001b[39mprint\u001b[39m(minimoactual,listaPack)\n",
      "Cell \u001b[1;32mIn[9], line 7\u001b[0m, in \u001b[0;36magrupar_en_packs_6\u001b[1;34m(data, lstSol, coste)\u001b[0m\n\u001b[0;32m      4\u001b[0m \u001b[39mglobal\u001b[39;00m minimoactual\n\u001b[0;32m      5\u001b[0m \u001b[39mglobal\u001b[39;00m listaPack\n\u001b[1;32m----> 7\u001b[0m packages \u001b[39m=\u001b[39m list_combs(data, \u001b[39m6\u001b[39;49m)\n\u001b[0;32m      9\u001b[0m \u001b[39mfor\u001b[39;00m pack \u001b[39min\u001b[39;00m packages:\n\u001b[0;32m     10\u001b[0m     lstSolAux \u001b[39m=\u001b[39m lstSol\u001b[39m.\u001b[39mcopy()\n",
      "Cell \u001b[1;32mIn[7], line 3\u001b[0m, in \u001b[0;36mlist_combs\u001b[1;34m(iterable, k)\u001b[0m\n\u001b[0;32m      2\u001b[0m \u001b[39mdef\u001b[39;00m \u001b[39mlist_combs\u001b[39m(iterable, k): \n\u001b[1;32m----> 3\u001b[0m     \u001b[39mreturn\u001b[39;00m np\u001b[39m.\u001b[39;49marray(\u001b[39mlist\u001b[39;49m(itertools\u001b[39m.\u001b[39;49mcombinations(iterable, k)))\n",
      "\u001b[1;31mKeyboardInterrupt\u001b[0m: "
     ]
    }
   ],
   "source": [
    "# Se llama a la función y se pinta tanto el coste obtenido como la solución que produce ese minimo.\n",
    "minimoactual = 10000\n",
    "listaPack = []\n",
    "\n",
    "agrupar_en_packs_6(datos,lstSol=[],coste=0)\n",
    "\n",
    "print(minimoactual,listaPack)"
   ]
  },
  {
   "cell_type": "markdown",
   "metadata": {},
   "source": [
    "No se ha ejecutado hasta el final ya que el tiempo de ejecución era inasumible."
   ]
  },
  {
   "cell_type": "markdown",
   "metadata": {
    "id": "tgrnsC2nkFa8"
   },
   "source": [
    "### Calcula la complejidad del algoritmo por fuerza bruta"
   ]
  },
  {
   "cell_type": "markdown",
   "metadata": {
    "id": "9eUd3xwckP68"
   },
   "source": [
    "Respuesta\n",
    "\n",
    "---\n",
    "\n",
    "La complejidad del algoritmo es del orden factorial, ya que iterará a través de todas las permutaciones de los elementos de entrada. Por tanto será:\n",
    "\n",
    "\\begin{equation}\n",
    "\\displaystyle O(\\frac{N!}{\\prod_{0}^{\\frac{N}{d}} d!})\n",
    "\\end{equation}\n",
    "\n",
    "Donde **N** es el número de tomas y **d** el número de sesiones por dia."
   ]
  },
  {
   "cell_type": "markdown",
   "metadata": {
    "id": "txbrmLmskReM"
   },
   "source": [
    "### (*)Diseña un algoritmo que mejore la complejidad del algortimo por fuerza bruta. Argumenta porque crees que mejora el algoritmo por fuerza bruta"
   ]
  },
  {
   "cell_type": "markdown",
   "metadata": {
    "id": "hLrVwt5QkZPD"
   },
   "source": [
    "Respuesta\n",
    "\n",
    "---\n",
    "\n",
    "Para mejorar la complejidad del algoritmo de fuerza bruta se va a desarrollar un algoritmo de busqueda metaheurística como es el algoritmo de recocido simulado. Este algoritmo puede quedar atrapado en un mínimo local, por lo que no nos garantiza una solución optima, no obstante podemos ejecutar varias instancias del algoritmo para evaluar los resultados o encadenar ejecuciones.\n",
    "\n",
    "El pseudocodigo del algoritmo de recocido simulado es el siguiente:\n",
    "\n",
    "<div style=\"display: flex; justify-content: center;\">\n",
    "<img src=\"Pseudocode.png\" alt=\"Texto alternativo\">\n",
    "</div>\n",
    "\n",
    "Este pseudocódigo es genérico independientemente del problema, por lo que, la implementación del algoritmo de recocido simulado es bastante simple.\n",
    "\n",
    "Para cualquier problema habrá que determinar una forma de encontrar una solución inicial, en este caso, la hemos generado aleatoriamente, y una forma de generar un vecino aleatorio, en este caso hemos utilizado la tecnica de subinversión de 2 opciones, que consiste en seleccionar aleatoriamente un punto de inicio y un punto de fin del array de soluciones he invertirlo para generar una nueva.\n",
    "\n",
    "Hemos implementado la función de coste para evaluar las posibles soluciones y la temperatura de inicio (T0) la hemos determinado como un porcentaje del coste de la solución inicial, ya que debe estar en las mismas unidades que el coste.\n",
    "\n",
    "Finalmente la temperatura la hemos actualizado exponencialmente."
   ]
  },
  {
   "cell_type": "code",
   "execution_count": 11,
   "metadata": {},
   "outputs": [],
   "source": [
    "import numpy as np\n",
    "import random\n",
    "import math\n",
    "\n",
    "\n",
    "#Carga de datos\n",
    "CSVData = open(\"data.csv\")\n",
    "datos = np.loadtxt(CSVData, delimiter=\",\", dtype=np.int8)"
   ]
  },
  {
   "cell_type": "code",
   "execution_count": 12,
   "metadata": {
    "id": "m1eyM21Vkabg"
   },
   "outputs": [],
   "source": [
    "##Generador de la solución inicial.\n",
    "def Generar_Solucion_Inicial(longitud):\n",
    "    opciones = np.arange(0,longitud,1)\n",
    "    lstSol=[]\n",
    "    opcionesDel = opciones.copy()\n",
    "    for x in range(len(opciones)):\n",
    "\n",
    "        aleatorio = random.choice(opcionesDel)\n",
    "        lstSol.append(aleatorio)\n",
    "        opcionesDel = np.delete(opcionesDel,np.argmax(opcionesDel==aleatorio))\n",
    "\n",
    "    return lstSol"
   ]
  },
  {
   "cell_type": "code",
   "execution_count": 13,
   "metadata": {},
   "outputs": [],
   "source": [
    "##Generador del vecino aleatorio\n",
    "def Generar_Vecino_Aleatorio(Sol):\n",
    "    sol2=Sol.copy()\n",
    "    num = random.randint(1,len(sol2)-2)\n",
    "    num2 = random.randint(num+1,len(sol2))\n",
    "    vector2 = Sol[num2:num-1:-1]\n",
    "    sol2[num:num2+1]=vector2\n",
    "    return sol2"
   ]
  },
  {
   "cell_type": "code",
   "execution_count": 14,
   "metadata": {},
   "outputs": [],
   "source": [
    "#~#Funcion de costes\n",
    "\n",
    "def eval_coste(sol,conjunto):\n",
    "    cost=0\n",
    "\n",
    "    for x in range((int)(len(sol)/6)):\n",
    "        \n",
    "        cost = cost + np.count_nonzero(sum([conjunto[sol[0+6*x]],conjunto[sol[1+6*x]],conjunto[sol[2+6*x]],conjunto[sol[3+6*x]],conjunto[sol[4+6*x]],conjunto[sol[5+6*x]]]))\n",
    "    \n",
    "        if len(sol)%6!=0:\n",
    "            extra = len(sol)%6\n",
    "            lstext=[]\n",
    "            for y in range(extra):\n",
    "                lstext.append(conjunto[sol[y-1]])\n",
    "            cost = cost + np.count_nonzero(sum(lstext))\n",
    "    return cost  "
   ]
  },
  {
   "cell_type": "code",
   "execution_count": 15,
   "metadata": {},
   "outputs": [],
   "source": [
    "##Recocido Simulado\n",
    "def recocido_simulado(alpha,L,Tf,sol_ini,conjuntoDatos):\n",
    "\n",
    "    S_act = sol_ini.copy()\n",
    "    \n",
    "    T = 0.4*eval_coste(S_act,conjuntoDatos)\n",
    "\n",
    "    while T>=Tf:\n",
    "\n",
    "        for x in range(0,L):\n",
    "            \n",
    "            S_cand = Generar_Vecino_Aleatorio(S_act)\n",
    "\n",
    "            delta = eval_coste(S_cand,conjuntoDatos)-eval_coste(S_act,conjuntoDatos)\n",
    "\n",
    "            if(random.random()<math.exp(-delta/T) or delta<0):\n",
    "                \n",
    "                S_act = S_cand.copy()\n",
    "                \n",
    "        T=alpha*T\n",
    "    \n",
    "    return S_act"
   ]
  },
  {
   "cell_type": "code",
   "execution_count": 35,
   "metadata": {},
   "outputs": [],
   "source": [
    "def pintar_sol(solucion,data):\n",
    "    \n",
    "    print(f\"El coste mínimo seria de {eval_coste(solucion,data)} y el orden de las tomas seria: \")\n",
    "\n",
    "    for x in range(5):\n",
    "        print(f\"Dia {x+1}: {solucion[0+6*x:6+6*x]}\")"
   ]
  },
  {
   "cell_type": "code",
   "execution_count": 36,
   "metadata": {},
   "outputs": [
    {
     "name": "stdout",
     "output_type": "stream",
     "text": [
      "El coste mínimo seria de 27 y el orden de las tomas seria: \n",
      "Dia 1: [9, 25, 28, 7, 10, 20]\n",
      "Dia 2: [26, 5, 3, 14, 2, 4]\n",
      "Dia 3: [22, 18, 23, 13, 17, 16]\n",
      "Dia 4: [6, 12, 24, 27, 8, 15]\n",
      "Dia 5: [11, 21, 29, 0, 19, 1]\n",
      "CPU times: total: 10.1 s\n",
      "Wall time: 12.3 s\n"
     ]
    }
   ],
   "source": [
    "%%time\n",
    "\n",
    "prim = Generar_Solucion_Inicial(30)\n",
    "\n",
    "Solucion1 = recocido_simulado(0.90,1000,0.01,prim,datos)\n",
    "\n",
    "pintar_sol(Solucion1,datos)\n"
   ]
  },
  {
   "cell_type": "markdown",
   "metadata": {},
   "source": [
    "Con una temperatura final relativamente baja de 0.01, un coeficiente de cambio de temperatura de 0.9 y 1000 iteraciones por etapa de temperatura, se consiguen soluciones con un coste de entre 27 y 29 en unos 12 segundos.\n",
    "\n",
    "Sin embargo siendo menos restrictivos se pueden obtener soluciones muy razonables en un tiempo mínimo. Como en el siguiente ejemplo:"
   ]
  },
  {
   "cell_type": "code",
   "execution_count": 37,
   "metadata": {},
   "outputs": [
    {
     "name": "stdout",
     "output_type": "stream",
     "text": [
      "El coste mínimo seria de 30 y el orden de las tomas seria: \n",
      "Dia 1: [19, 21, 5, 28, 8, 0]\n",
      "Dia 2: [12, 1, 22, 10, 4, 6]\n",
      "Dia 3: [17, 13, 20, 16, 23, 18]\n",
      "Dia 4: [24, 9, 15, 11, 7, 25]\n",
      "Dia 5: [26, 2, 3, 27, 29, 14]\n",
      "CPU times: total: 1.03 s\n",
      "Wall time: 1.5 s\n"
     ]
    }
   ],
   "source": [
    "%%time\n",
    "\n",
    "prim = Generar_Solucion_Inicial(30)\n",
    "\n",
    "Solucion2 = recocido_simulado(0.60,700,0.1,prim,datos)\n",
    "\n",
    "pintar_sol(Solucion2,datos)\n"
   ]
  },
  {
   "cell_type": "markdown",
   "metadata": {},
   "source": [
    "En este caso en mucho menos tiempo se obtienen soluciones de entre 27 y 33 de coste, esto permite obtener soluciones aceptables rápidamente permitiendo escalar a aplicaciones donde el tiempo es importante.\n",
    "\n",
    "El algoritmo del recocido simulado permite la ejecución secuencial del algoritmo partiendo de la solución incial calculada en la etapa anterior, como se muestra en el siguiente ejemplo, lo que permite mejorar la primera solución obtenida."
   ]
  },
  {
   "cell_type": "code",
   "execution_count": 39,
   "metadata": {},
   "outputs": [
    {
     "name": "stdout",
     "output_type": "stream",
     "text": [
      "El coste mínimo seria de 30 y el orden de las tomas seria: \n",
      "Dia 1: [6, 22, 8, 1, 0, 19]\n",
      "Dia 2: [3, 20, 2, 4, 14, 28]\n",
      "Dia 3: [13, 7, 18, 27, 17, 11]\n",
      "Dia 4: [25, 10, 23, 21, 9, 16]\n",
      "Dia 5: [5, 24, 12, 15, 29, 26]\n",
      "El coste mínimo seria de 27 y el orden de las tomas seria: \n",
      "Dia 1: [6, 12, 8, 27, 26, 5]\n",
      "Dia 2: [10, 25, 9, 4, 11, 19]\n",
      "Dia 3: [15, 21, 24, 1, 0, 29]\n",
      "Dia 4: [17, 23, 13, 22, 18, 16]\n",
      "Dia 5: [14, 7, 20, 3, 28, 2]\n",
      "CPU times: total: 1.5 s\n",
      "Wall time: 1.8 s\n"
     ]
    }
   ],
   "source": [
    "%%time\n",
    "\n",
    "prim = Generar_Solucion_Inicial(30)\n",
    "\n",
    "Solucion3 = recocido_simulado(0.60,700,0.1,prim,datos)\n",
    "Solucion4 = recocido_simulado(0.60,700,0.1,Solucion3,datos)\n",
    "\n",
    "pintar_sol(Solucion3,datos)\n",
    "pintar_sol(Solucion4,datos)"
   ]
  },
  {
   "cell_type": "markdown",
   "metadata": {
    "id": "eGDB4K6uk1iN"
   },
   "source": [
    "### (*)Calcula la complejidad del algoritmo"
   ]
  },
  {
   "cell_type": "markdown",
   "metadata": {
    "id": "NhpTh_BPk1ms"
   },
   "source": [
    "Respuesta\n",
    "\n",
    "---\n",
    "\n",
    "La complejidad del algoritmo de recocido simulado sería aproximadamente O(L * N), donde L es el número de iteraciónes en un estado de temperatura y N es el número de iteraciones del bucle principal, que está determinado por \n",
    "la temperatura inicial T, la temperatura final Tf y el factor de enfriamiento alpha."
   ]
  },
  {
   "cell_type": "markdown",
   "metadata": {
    "id": "3M6QjTsSkmYe"
   },
   "source": [
    "### Según el problema (y tenga sentido), diseña un juego de datos de entrada aleatorios\n"
   ]
  },
  {
   "cell_type": "markdown",
   "metadata": {
    "id": "Jc3_OlyNkvjZ"
   },
   "source": [
    "Respuesta\n",
    "\n",
    "---\n",
    "\n",
    "Para testear la robustez del algoritmo, vamos a generar dos nuevos conjuntos de datos, un primero con un mayor numero de datos y un segundo con la misma cantidad de datos y la solución óptima conocida.\n",
    "\n",
    "**Conjunto 1: data_1**\n",
    "\n",
    "Este conjunto contiene cuatro tomas adicionales, nuestro algoritmo esta diseñado de forma que agrupa en paquetes de 6 , el máximo de tomas que se permiten diariamente, al tener ahora un conjunto de datos cuya longitud no es múltiplo de 6 puede que no alcance la solución óptima.\n",
    "\n",
    "**Conjunto 2: data_2**\n",
    "\n",
    "Este conjunto va a tener un coste de 10 y vamos a ver si el algoritmo es capaz de alcanzar esta solución."
   ]
  },
  {
   "cell_type": "markdown",
   "metadata": {
    "id": "zy5ZROmjlGo1"
   },
   "source": [
    "### Aplica el algoritmo al juego de datos generado\n"
   ]
  },
  {
   "cell_type": "markdown",
   "metadata": {
    "id": "_Cmj-PVylMsa"
   },
   "source": [
    "Respuesta\n",
    "\n",
    "---\n",
    "\n",
    "**Conjunto 1: data_1**"
   ]
  },
  {
   "cell_type": "code",
   "execution_count": 40,
   "metadata": {
    "id": "sJ-N2etjkyWc"
   },
   "outputs": [
    {
     "name": "stdout",
     "output_type": "stream",
     "text": [
      "[[1 1 1 1 1 0 0 0 0 0]\n",
      " [0 0 1 1 1 0 0 0 0 0]\n",
      " [0 1 0 0 1 0 1 0 0 0]\n",
      " [1 1 0 0 0 0 1 1 0 0]\n",
      " [0 1 0 1 0 0 0 1 0 0]\n",
      " [1 1 0 1 1 0 0 0 0 0]\n",
      " [1 1 0 1 1 0 0 0 0 0]\n",
      " [1 1 0 0 0 1 0 0 0 0]\n",
      " [1 1 0 1 0 0 0 0 0 0]\n",
      " [1 1 0 0 0 1 0 0 1 0]\n",
      " [1 1 1 0 1 0 0 1 0 0]\n",
      " [1 1 1 1 0 1 0 0 0 0]\n",
      " [1 0 0 1 1 0 0 0 0 0]\n",
      " [1 0 1 0 0 1 0 0 0 0]\n",
      " [1 1 0 0 0 0 1 0 0 0]\n",
      " [0 0 0 1 0 0 0 0 0 1]\n",
      " [1 0 1 0 0 0 0 0 0 0]\n",
      " [0 0 1 0 0 1 0 0 0 0]\n",
      " [1 0 1 0 0 0 0 0 0 0]\n",
      " [1 0 1 1 1 0 0 0 0 0]\n",
      " [0 0 0 0 0 1 0 1 0 0]\n",
      " [1 1 1 1 0 0 0 0 0 0]\n",
      " [1 0 1 0 0 0 0 0 0 0]\n",
      " [0 0 1 0 0 1 0 0 0 0]\n",
      " [1 1 0 1 0 0 0 0 0 1]\n",
      " [1 0 1 0 1 0 0 0 1 0]\n",
      " [0 0 0 1 1 0 0 0 0 0]\n",
      " [1 0 0 1 0 0 0 0 0 0]\n",
      " [1 0 0 0 1 1 0 0 0 0]\n",
      " [1 0 0 1 0 0 0 0 0 0]\n",
      " [1 1 1 1 0 1 0 0 0 1]\n",
      " [1 0 1 0 0 0 0 0 1 0]\n",
      " [0 0 1 0 0 0 0 0 0 1]\n",
      " [1 1 1 1 0 0 0 0 1 1]]\n"
     ]
    }
   ],
   "source": [
    "#Carga de datos\n",
    "CSVData = open(\"data_1.csv\")\n",
    "datos_1 = np.loadtxt(CSVData, delimiter=\",\", dtype=np.int8)\n",
    "print(datos_1)"
   ]
  },
  {
   "cell_type": "code",
   "execution_count": 42,
   "metadata": {},
   "outputs": [
    {
     "name": "stdout",
     "output_type": "stream",
     "text": [
      "El coste mínimo seria de 41 y el orden de las tomas seria: \n",
      "Dia 1: [12, 27, 26, 5, 8, 6]\n",
      "Dia 2: [14, 2, 28, 20, 7, 3]\n",
      "Dia 3: [30, 24, 32, 15, 11, 21]\n",
      "Dia 4: [13, 18, 16, 23, 22, 17]\n",
      "Dia 5: [25, 19, 4, 1, 31, 10]\n",
      "CPU times: total: 48.1 s\n",
      "Wall time: 55.6 s\n"
     ]
    }
   ],
   "source": [
    "%%time\n",
    "\n",
    "prim2 = Generar_Solucion_Inicial(len(datos_1))\n",
    "\n",
    "Solucion5 = recocido_simulado(0.95,1300,0.01,prim2,datos_1)\n",
    "\n",
    "pintar_sol(Solucion5,datos_1)"
   ]
  },
  {
   "cell_type": "code",
   "execution_count": 53,
   "metadata": {},
   "outputs": [
    {
     "name": "stdout",
     "output_type": "stream",
     "text": [
      "El coste mínimo seria de 46 y el orden de las tomas seria: \n",
      "Dia 1: [6, 26, 12, 1, 21, 19]\n",
      "Dia 2: [3, 14, 20, 2, 28, 7]\n",
      "Dia 3: [9, 11, 32, 31, 33, 30]\n",
      "Dia 4: [13, 16, 22, 18, 23, 17]\n",
      "Dia 5: [27, 8, 29, 15, 4, 24]\n",
      "CPU times: total: 16 s\n",
      "Wall time: 19.6 s\n"
     ]
    }
   ],
   "source": [
    "%%time\n",
    "\n",
    "prim2 = Generar_Solucion_Inicial(len(datos_1))\n",
    "\n",
    "Solucion6 = recocido_simulado(0.90,1000,0.01,prim2,datos_1)\n",
    "\n",
    "pintar_sol(Solucion6,datos_1)"
   ]
  },
  {
   "cell_type": "code",
   "execution_count": 54,
   "metadata": {},
   "outputs": [
    {
     "name": "stdout",
     "output_type": "stream",
     "text": [
      "El coste mínimo seria de 51 y el orden de las tomas seria: \n",
      "Dia 1: [14, 18, 16, 1, 2, 13]\n",
      "Dia 2: [0, 25, 31, 33, 15, 19]\n",
      "Dia 3: [26, 8, 29, 6, 5, 12]\n",
      "Dia 4: [11, 23, 27, 32, 30, 24]\n",
      "Dia 5: [20, 4, 28, 17, 21, 7]\n",
      "CPU times: total: 969 ms\n",
      "Wall time: 1.25 s\n"
     ]
    }
   ],
   "source": [
    "%%time\n",
    "\n",
    "prim2 = Generar_Solucion_Inicial(len(datos_1))\n",
    "\n",
    "Solucion7 = recocido_simulado(0.40,700,0.1,prim2,datos_1)\n",
    "\n",
    "pintar_sol(Solucion7,datos_1)"
   ]
  },
  {
   "cell_type": "markdown",
   "metadata": {},
   "source": [
    "Vemos como en este caso entre emplear unos parametros iniciales mas restrictivos o menos restrictivos hay bastante diferencia, debido tanto al aumento en la longitud del conjunto como a la variación de forma. La dificultad para obtener soluciones aumenta y con ello el tiempo de procesamiento, al aumentar el espacio de soluciones, es mas probable que caigamos en un minimo local y nos alejemos de la solución óptima.\n",
    "\n",
    "**Conjunto 2: data_2**"
   ]
  },
  {
   "cell_type": "code",
   "execution_count": 46,
   "metadata": {},
   "outputs": [
    {
     "name": "stdout",
     "output_type": "stream",
     "text": [
      "[[1 0 0 0 0 0 0 0 0 0]\n",
      " [1 0 0 0 0 0 0 0 0 0]\n",
      " [1 0 0 0 0 0 0 0 0 0]\n",
      " [1 0 0 0 0 0 0 0 0 0]\n",
      " [1 0 0 0 0 0 0 0 0 0]\n",
      " [1 0 0 0 0 0 0 0 0 0]\n",
      " [0 1 1 1 0 0 0 0 0 0]\n",
      " [0 1 1 1 0 0 0 0 0 0]\n",
      " [0 1 1 1 0 0 0 0 0 0]\n",
      " [0 1 1 1 0 0 0 0 0 0]\n",
      " [0 1 1 1 0 0 0 0 0 0]\n",
      " [0 1 1 1 0 0 0 0 0 0]\n",
      " [0 0 0 0 1 0 0 0 0 0]\n",
      " [0 0 0 0 1 0 0 0 0 0]\n",
      " [0 0 0 0 1 0 0 0 0 0]\n",
      " [0 0 0 0 1 0 0 0 0 0]\n",
      " [0 0 0 0 1 0 0 0 0 0]\n",
      " [0 0 0 0 1 0 0 0 0 0]\n",
      " [0 0 0 0 0 1 1 0 0 0]\n",
      " [0 0 0 0 0 1 1 0 0 0]\n",
      " [0 0 0 0 0 1 1 0 0 0]\n",
      " [0 0 0 0 0 1 1 0 0 0]\n",
      " [0 0 0 0 0 1 1 0 0 0]\n",
      " [0 0 0 0 0 1 1 0 0 0]\n",
      " [0 0 0 0 0 0 0 1 1 1]\n",
      " [0 0 0 0 0 0 0 1 1 1]\n",
      " [0 0 0 0 0 0 0 1 1 1]\n",
      " [0 0 0 0 0 0 0 1 1 1]\n",
      " [0 0 0 0 0 0 0 1 1 1]\n",
      " [0 0 0 0 0 0 0 1 1 1]]\n"
     ]
    }
   ],
   "source": [
    "#Carga de datos\n",
    "CSVData = open(\"data_2.csv\")\n",
    "datos_2 = np.loadtxt(CSVData, delimiter=\",\", dtype=np.int8)\n",
    "print(datos_2)"
   ]
  },
  {
   "cell_type": "code",
   "execution_count": 55,
   "metadata": {},
   "outputs": [
    {
     "name": "stdout",
     "output_type": "stream",
     "text": [
      "El coste mínimo seria de 10 y el orden de las tomas seria: \n",
      "Dia 1: [18, 21, 22, 23, 20, 19]\n",
      "Dia 2: [11, 7, 6, 10, 8, 9]\n",
      "Dia 3: [27, 29, 24, 25, 26, 28]\n",
      "Dia 4: [14, 17, 15, 16, 12, 13]\n",
      "Dia 5: [2, 1, 4, 5, 3, 0]\n",
      "CPU times: total: 25.7 s\n",
      "Wall time: 29.4 s\n"
     ]
    }
   ],
   "source": [
    "%%time\n",
    "\n",
    "prim2 = Generar_Solucion_Inicial(len(datos_2))\n",
    "\n",
    "Solucion8 = recocido_simulado(0.95,1300,0.005,prim2,datos_2)\n",
    "\n",
    "pintar_sol(Solucion8,datos_2)"
   ]
  },
  {
   "cell_type": "code",
   "execution_count": 59,
   "metadata": {},
   "outputs": [
    {
     "name": "stdout",
     "output_type": "stream",
     "text": [
      "El coste mínimo seria de 12 y el orden de las tomas seria: \n",
      "Dia 1: [9, 8, 10, 11, 7, 6]\n",
      "Dia 2: [23, 21, 20, 19, 22, 18]\n",
      "Dia 3: [4, 14, 13, 12, 5, 17]\n",
      "Dia 4: [29, 27, 24, 26, 25, 28]\n",
      "Dia 5: [15, 0, 3, 1, 2, 16]\n",
      "CPU times: total: 9.09 s\n",
      "Wall time: 10.6 s\n"
     ]
    }
   ],
   "source": [
    "%%time\n",
    "\n",
    "prim2 = Generar_Solucion_Inicial(len(datos_2))\n",
    "\n",
    "Solucion9 = recocido_simulado(0.90,1000,0.01,prim2,datos_2)\n",
    "\n",
    "pintar_sol(Solucion9,datos_2)"
   ]
  },
  {
   "cell_type": "code",
   "execution_count": 57,
   "metadata": {},
   "outputs": [
    {
     "name": "stdout",
     "output_type": "stream",
     "text": [
      "El coste mínimo seria de 22 y el orden de las tomas seria: \n",
      "Dia 1: [13, 2, 17, 4, 12, 0]\n",
      "Dia 2: [16, 9, 15, 11, 6, 8]\n",
      "Dia 3: [1, 22, 5, 21, 23, 19]\n",
      "Dia 4: [29, 25, 10, 3, 28, 7]\n",
      "Dia 5: [18, 26, 20, 14, 24, 27]\n",
      "CPU times: total: 641 ms\n",
      "Wall time: 777 ms\n"
     ]
    }
   ],
   "source": [
    "%%time\n",
    "\n",
    "prim2 = Generar_Solucion_Inicial(len(datos_2))\n",
    "\n",
    "Solucion10 = recocido_simulado(0.4,700,0.1,prim2,datos_2)\n",
    "\n",
    "pintar_sol(Solucion10,datos_2)"
   ]
  },
  {
   "cell_type": "markdown",
   "metadata": {
    "id": "eTFWUJQrtGcv"
   },
   "source": [
    "En este caso, vemos como únicamente el primero ha llegado a la solución óptima y conforme los parametros se vuelven menos restrictivos, las soluciones encontradas son peores.\n",
    "\n",
    "### Enumera las referencias que has utilizado(si ha sido necesario) para llevar a cabo el trabajo"
   ]
  },
  {
   "cell_type": "markdown",
   "metadata": {
    "id": "YKQ_mRBttWsP"
   },
   "source": [
    "Respuesta\n",
    "\n",
    "---\n",
    "\n",
    "https://www.youtube.com/playlist?list=PLlSRRJbf1_seR7BeZLqG-ln3K8D6Oo5ef"
   ]
  },
  {
   "cell_type": "markdown",
   "metadata": {
    "id": "kAkDPUyRtYyH"
   },
   "source": [
    "Describe brevemente las lineas de como crees que es posible avanzar en el estudio del problema. Ten en cuenta incluso posibles variaciones del problema y/o variaciones al alza del tamaño"
   ]
  },
  {
   "cell_type": "markdown",
   "metadata": {
    "id": "IE0uZmo-tZu-"
   },
   "source": [
    "Respuesta\n",
    "\n",
    "---"
   ]
  },
  {
   "cell_type": "markdown",
   "metadata": {},
   "source": [
    "Se podría avanzar en el algoritmo de forma que la restricción de tomas por dia, fuera un parametro configurable. Es algo sencillo y que lo haría mucho mas versátil."
   ]
  }
 ],
 "metadata": {
  "colab": {
   "provenance": []
  },
  "kernelspec": {
   "display_name": "Python 3 (ipykernel)",
   "language": "python",
   "name": "python3"
  },
  "language_info": {
   "codemirror_mode": {
    "name": "ipython",
    "version": 3
   },
   "file_extension": ".py",
   "mimetype": "text/x-python",
   "name": "python",
   "nbconvert_exporter": "python",
   "pygments_lexer": "ipython3",
   "version": "3.10.11"
  }
 },
 "nbformat": 4,
 "nbformat_minor": 4
}
