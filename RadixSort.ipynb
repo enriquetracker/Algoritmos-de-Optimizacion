{
  "nbformat": 4,
  "nbformat_minor": 0,
  "metadata": {
    "colab": {
      "provenance": [],
      "authorship_tag": "ABX9TyNbDdqFMqNM6KwaizJzdZ+5",
      "include_colab_link": true
    },
    "kernelspec": {
      "name": "python3",
      "display_name": "Python 3"
    },
    "language_info": {
      "name": "python"
    }
  },
  "cells": [
    {
      "cell_type": "markdown",
      "metadata": {
        "id": "view-in-github",
        "colab_type": "text"
      },
      "source": [
        "<a href=\"https://colab.research.google.com/github/enriquetracker/03MIAR---Algoritmos-de-Optimizacion-2022/blob/main/RadixSort.ipynb\" target=\"_parent\"><img src=\"https://colab.research.google.com/assets/colab-badge.svg\" alt=\"Open In Colab\"/></a>"
      ]
    },
    {
      "cell_type": "markdown",
      "source": [
        "<font color=\"#002856\"><h1 align=\"left\">Algoritmos de optimización</h1></font>\n",
        "<font color=\"#002856\"><h2 align=\"left\">Algoritmo Radix Sort</h2></font>\n"
      ],
      "metadata": {
        "id": "HZ7dT6TIHOaq"
      }
    },
    {
      "cell_type": "code",
      "source": [
        "# RadixSORT\n",
        "\n",
        "def count_sort(array, pos):\n",
        "    tamaño = len(array)\n",
        "    resultado = [0] * tamaño\n",
        "    count = [0] * 10\n",
        "\n",
        "    for i in range(0, tamaño):\n",
        "        indice = array[i] // pos\n",
        "        count[indice % 10] += 1\n",
        "\n",
        "    for i in range(1, 10):\n",
        "        count[i] += count[i - 1]\n",
        "\n",
        "    i = tamaño - 1\n",
        "    while i >= 0:\n",
        "        indice = array[i] // pos\n",
        "        resultado[count[indice % 10] - 1] = array[i]\n",
        "        count[indice % 10] -= 1\n",
        "        i -= 1\n",
        "\n",
        "    for i in range(0, tamaño):\n",
        "        array[i] = resultado[i]\n",
        "\n",
        "def radix_sort(array):\n",
        "\n",
        "    elemento_maximo = max(array)\n",
        "\n",
        "    pos = 1\n",
        "    while elemento_maximo // pos > 0:\n",
        "        count_sort(array, pos)\n",
        "        pos *= 10\n",
        "\n",
        "datos = [121, 432, 564, 23, 1, 45, 788]\n",
        "radix_sort(datos)\n",
        "print(datos)"
      ],
      "metadata": {
        "colab": {
          "base_uri": "https://localhost:8080/"
        },
        "id": "Z4yFkF5FHR54",
        "outputId": "1e85cdf1-a2f9-4f66-a3d9-218c6b803335"
      },
      "execution_count": 4,
      "outputs": [
        {
          "output_type": "stream",
          "name": "stdout",
          "text": [
            "[1, 23, 45, 121, 432, 564, 788]\n"
          ]
        }
      ]
    }
  ]
}